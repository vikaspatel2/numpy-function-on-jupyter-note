{
 "cells": [
  {
   "cell_type": "code",
   "execution_count": 73,
   "id": "d02e0eab",
   "metadata": {},
   "outputs": [],
   "source": [
    "import numpy as np"
   ]
  },
  {
   "cell_type": "code",
   "execution_count": 74,
   "id": "54d5d769",
   "metadata": {},
   "outputs": [
    {
     "data": {
      "text/plain": [
       "array([1, 2, 3, 4, 5])"
      ]
     },
     "execution_count": 74,
     "metadata": {},
     "output_type": "execute_result"
    }
   ],
   "source": [
    "a=[1,2,3,4,5]\n",
    "myarr=np.array(a)\n",
    "myarr\n",
    "               "
   ]
  },
  {
   "cell_type": "code",
   "execution_count": 75,
   "id": "911b4957",
   "metadata": {},
   "outputs": [
    {
     "data": {
      "text/plain": [
       "array([1, 2, 3, 4, 5, 6])"
      ]
     },
     "execution_count": 75,
     "metadata": {},
     "output_type": "execute_result"
    }
   ],
   "source": [
    "myarr=np.array([1,2,3,4,5,6])\n",
    "myarr"
   ]
  },
  {
   "cell_type": "code",
   "execution_count": 3,
   "id": "de546237",
   "metadata": {},
   "outputs": [
    {
     "name": "stdout",
     "output_type": "stream",
     "text": [
      "Enter the size of array: 3\n",
      "enter the number5\n",
      "enter the number6\n",
      "enter the number7\n"
     ]
    },
    {
     "data": {
      "text/plain": [
       "array([5, 6, 7])"
      ]
     },
     "execution_count": 3,
     "metadata": {},
     "output_type": "execute_result"
    }
   ],
   "source": [
    "import numpy as np\n",
    "a=[]\n",
    "x=int(input(\"Enter the size of array: \"))\n",
    "for x in range(x):\n",
    "    var=int(input(\"enter the number\"))\n",
    "    a.append(var)\n",
    "arr=np.array(a)\n",
    "arr\n",
    "\n"
   ]
  },
  {
   "cell_type": "code",
   "execution_count": 2,
   "id": "0969cf36",
   "metadata": {},
   "outputs": [
    {
     "name": "stdout",
     "output_type": "stream",
     "text": [
      "Enter the size of array: 3\n",
      "enter the number4\n",
      "enter the number5\n",
      "enter the number6\n"
     ]
    },
    {
     "ename": "NameError",
     "evalue": "name 'np' is not defined",
     "output_type": "error",
     "traceback": [
      "\u001b[0;31m---------------------------------------------------------------------------\u001b[0m",
      "\u001b[0;31mNameError\u001b[0m                                 Traceback (most recent call last)",
      "Input \u001b[0;32mIn [2]\u001b[0m, in \u001b[0;36m<cell line: 6>\u001b[0;34m()\u001b[0m\n\u001b[1;32m      4\u001b[0m     var\u001b[38;5;241m=\u001b[39m\u001b[38;5;28mint\u001b[39m(\u001b[38;5;28minput\u001b[39m(\u001b[38;5;124m\"\u001b[39m\u001b[38;5;124menter the number\u001b[39m\u001b[38;5;124m\"\u001b[39m))\n\u001b[1;32m      5\u001b[0m     a\u001b[38;5;241m.\u001b[39mappend(var)\n\u001b[0;32m----> 6\u001b[0m arr\u001b[38;5;241m=\u001b[39m\u001b[43mnp\u001b[49m\u001b[38;5;241m.\u001b[39marray(a)\n\u001b[1;32m      7\u001b[0m arr\n",
      "\u001b[0;31mNameError\u001b[0m: name 'np' is not defined"
     ]
    }
   ],
   "source": [
    "a=[]\n",
    "x=int(input(\"Enter the size of array: \"))\n",
    "for x in range(x):\n",
    "    var=int(input(\"enter the number\"))\n",
    "    a.append(var)\n",
    "arr=np.array(a)\n",
    "arr\n",
    "\n"
   ]
  },
  {
   "cell_type": "raw",
   "id": "4086b97c",
   "metadata": {
    "scrolled": false
   },
   "source": [
    "a=[]\n",
    "x=int(input(\"Enter the size of array: \"))\n",
    "for x in range(x):\n",
    "    var=int(input(\"enter the number\"))\n",
    "    a.append(var)\n",
    "arr=np.array(a)\n",
    "arr\n",
    "\n"
   ]
  },
  {
   "cell_type": "code",
   "execution_count": null,
   "id": "64d413e9",
   "metadata": {},
   "outputs": [],
   "source": [
    "#two dimension array\n",
    "\n",
    "a=[[1,2,3],[4,5,6],[7,8,9]]\n",
    "myarr=np.array(a)\n",
    "print(myarr)\n",
    "print(\"shape of array is\",myarr.shape)\n",
    "print(\"dimension of array is\",myarr.ndim)"
   ]
  },
  {
   "cell_type": "code",
   "execution_count": null,
   "id": "34cbb5e0",
   "metadata": {
    "collapsed": true
   },
   "outputs": [],
   "source": [
    "import numpy as np\n",
    "\n",
    "#zero function as in array\n",
    "a=np.zeros(5)\n",
    "print(a)\n",
    "#\n",
    "ab=np.zeros((3,4))\n",
    "print(ab)"
   ]
  },
  {
   "cell_type": "code",
   "execution_count": null,
   "id": "ca4e9f6c",
   "metadata": {
    "collapsed": true
   },
   "outputs": [],
   "source": [
    "#ones function\n",
    "a=np.ones(4)\n",
    "print(a)\n",
    "\n",
    "ab=np.ones((4,5))\n",
    "print(ab)"
   ]
  },
  {
   "cell_type": "code",
   "execution_count": null,
   "id": "2680eb0b",
   "metadata": {
    "collapsed": true
   },
   "outputs": [],
   "source": [
    "#eye function , makes diagonals in \"1\n",
    "x=np.eye(4) #bydefault it make 2dimen \n",
    "print(x)"
   ]
  },
  {
   "cell_type": "code",
   "execution_count": null,
   "id": "10ac6bf0",
   "metadata": {},
   "outputs": [],
   "source": [
    "#we can also command of different row and columns  in \"eye \" fubct\n",
    "y=np.eye(3,5) #but by only singel bracket\n",
    "print(y)"
   ]
  },
  {
   "cell_type": "code",
   "execution_count": null,
   "id": "be0007dd",
   "metadata": {
    "collapsed": true
   },
   "outputs": [],
   "source": [
    "#same we can change diagnals numer also \n",
    "#by diag function\n",
    "z=np.diag([2,4,6,8])#we have to give list value for that\n",
    "print(z)\n",
    "\n",
    "\n",
    "np.diag(z) #for taking our diag array"
   ]
  },
  {
   "cell_type": "code",
   "execution_count": null,
   "id": "af3e6112",
   "metadata": {
    "collapsed": true
   },
   "outputs": [],
   "source": [
    "import numpy as np\n",
    "#import random\n",
    "\n",
    "#randint function with random module\n",
    "ran=np.random.randint(2,6,4)\n",
    "print(ran)"
   ]
  },
  {
   "cell_type": "code",
   "execution_count": null,
   "id": "405ac518",
   "metadata": {
    "collapsed": true
   },
   "outputs": [],
   "source": [
    "#rand function\n",
    "#one dimension \n",
    "arr=np.random.rand(5)\n",
    "print(arr)\n",
    "\n"
   ]
  },
  {
   "cell_type": "code",
   "execution_count": null,
   "id": "d208a16e",
   "metadata": {
    "collapsed": true
   },
   "outputs": [],
   "source": [
    "#for 2 dimension\n",
    "arr2=np.random.rand(2,5)\n",
    "print(arr2)"
   ]
  },
  {
   "cell_type": "code",
   "execution_count": null,
   "id": "42047ead",
   "metadata": {
    "collapsed": true
   },
   "outputs": [],
   "source": [
    "#randn funct give values that is very close to  0 number\n",
    "\n",
    "#for 2 dimension\n",
    "arr=np.random.randn(5)\n",
    "print(arr)"
   ]
  },
  {
   "cell_type": "code",
   "execution_count": null,
   "id": "ad2542a8",
   "metadata": {
    "collapsed": true
   },
   "outputs": [],
   "source": [
    "### "
   ]
  },
  {
   "cell_type": "code",
   "execution_count": null,
   "id": "642468b4",
   "metadata": {
    "collapsed": true
   },
   "outputs": [],
   "source": []
  }
 ],
 "metadata": {
  "kernelspec": {
   "display_name": "Python 3 (ipykernel)",
   "language": "python",
   "name": "python3"
  },
  "language_info": {
   "codemirror_mode": {
    "name": "ipython",
    "version": 3
   },
   "file_extension": ".py",
   "mimetype": "text/x-python",
   "name": "python",
   "nbconvert_exporter": "python",
   "pygments_lexer": "ipython3",
   "version": "3.9.7"
  }
 },
 "nbformat": 4,
 "nbformat_minor": 5
}
